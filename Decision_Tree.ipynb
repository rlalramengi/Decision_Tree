{
  "nbformat": 4,
  "nbformat_minor": 0,
  "metadata": {
    "colab": {
      "name": "Decision Tree.ipynb",
      "provenance": [],
      "mount_file_id": "1fZTLQ3gDn8AtwW-k_pmPFg062qEizbkf",
      "authorship_tag": "ABX9TyP1AZIdXKZfJYBXir94zPeu",
      "include_colab_link": true
    },
    "kernelspec": {
      "name": "python3",
      "display_name": "Python 3"
    },
    "language_info": {
      "name": "python"
    }
  },
  "cells": [
    {
      "cell_type": "markdown",
      "metadata": {
        "id": "view-in-github",
        "colab_type": "text"
      },
      "source": [
        "<a href=\"https://colab.research.google.com/github/rlalramengi/Decision_Tree/blob/main/Decision_Tree.ipynb\" target=\"_parent\"><img src=\"https://colab.research.google.com/assets/colab-badge.svg\" alt=\"Open In Colab\"/></a>"
      ]
    },
    {
      "cell_type": "code",
      "execution_count": null,
      "metadata": {
        "id": "RPTmGpn9icsR"
      },
      "outputs": [],
      "source": [
        ""
      ]
    },
    {
      "cell_type": "markdown",
      "source": [
        "#Decision Three"
      ],
      "metadata": {
        "id": "l6Sjg7xTkySM"
      }
    },
    {
      "cell_type": "markdown",
      "source": [
        "#Load Libraries"
      ],
      "metadata": {
        "id": "m4WxzDD1ljVS"
      }
    },
    {
      "cell_type": "code",
      "source": [
        "import pandas as pd\n",
        "import numpy as np\n",
        "\n",
        "import warnings\n",
        "warnings.filterwarnings('ignore')\n",
        "\n",
        "import seaborn as sns\n",
        "import matplotlib.pyplot as plt\n",
        "%matplotlib inline\n",
        "sns.set(style='white', color_codes=True)"
      ],
      "metadata": {
        "id": "VXmdLEj1k1ed"
      },
      "execution_count": null,
      "outputs": []
    },
    {
      "cell_type": "markdown",
      "source": [
        "#Data Acquisition"
      ],
      "metadata": {
        "id": "SmMQVzH1nA74"
      }
    },
    {
      "cell_type": "code",
      "source": [
        "data = pd.read_csv('/content/drive/MyDrive/DataSet/techis-ds-wiki-main/DS/Step 2-3 DT and Ensemble/01_Decision-trees/iris.csv')"
      ],
      "metadata": {
        "id": "pPtUi6ucnDm_"
      },
      "execution_count": null,
      "outputs": []
    },
    {
      "cell_type": "code",
      "source": [
        "# Showing overview of the dataset\n",
        "data.head()"
      ],
      "metadata": {
        "colab": {
          "base_uri": "https://localhost:8080/",
          "height": 206
        },
        "id": "nEZH_66cp7g9",
        "outputId": "ac694170-eeb1-40e8-f9d1-ee1a4df85499"
      },
      "execution_count": null,
      "outputs": [
        {
          "output_type": "execute_result",
          "data": {
            "text/plain": [
              "   sepal_length  sepal_width  petal_length  petal_width species\n",
              "0           5.1          3.5           1.4          0.2  setosa\n",
              "1           4.9          3.0           1.4          0.2  setosa\n",
              "2           4.7          3.2           1.3          0.2  setosa\n",
              "3           4.6          3.1           1.5          0.2  setosa\n",
              "4           5.0          3.6           1.4          0.2  setosa"
            ],
            "text/html": [
              "\n",
              "  <div id=\"df-aea3b8b6-f78c-4c76-bb79-dbb08242e241\">\n",
              "    <div class=\"colab-df-container\">\n",
              "      <div>\n",
              "<style scoped>\n",
              "    .dataframe tbody tr th:only-of-type {\n",
              "        vertical-align: middle;\n",
              "    }\n",
              "\n",
              "    .dataframe tbody tr th {\n",
              "        vertical-align: top;\n",
              "    }\n",
              "\n",
              "    .dataframe thead th {\n",
              "        text-align: right;\n",
              "    }\n",
              "</style>\n",
              "<table border=\"1\" class=\"dataframe\">\n",
              "  <thead>\n",
              "    <tr style=\"text-align: right;\">\n",
              "      <th></th>\n",
              "      <th>sepal_length</th>\n",
              "      <th>sepal_width</th>\n",
              "      <th>petal_length</th>\n",
              "      <th>petal_width</th>\n",
              "      <th>species</th>\n",
              "    </tr>\n",
              "  </thead>\n",
              "  <tbody>\n",
              "    <tr>\n",
              "      <th>0</th>\n",
              "      <td>5.1</td>\n",
              "      <td>3.5</td>\n",
              "      <td>1.4</td>\n",
              "      <td>0.2</td>\n",
              "      <td>setosa</td>\n",
              "    </tr>\n",
              "    <tr>\n",
              "      <th>1</th>\n",
              "      <td>4.9</td>\n",
              "      <td>3.0</td>\n",
              "      <td>1.4</td>\n",
              "      <td>0.2</td>\n",
              "      <td>setosa</td>\n",
              "    </tr>\n",
              "    <tr>\n",
              "      <th>2</th>\n",
              "      <td>4.7</td>\n",
              "      <td>3.2</td>\n",
              "      <td>1.3</td>\n",
              "      <td>0.2</td>\n",
              "      <td>setosa</td>\n",
              "    </tr>\n",
              "    <tr>\n",
              "      <th>3</th>\n",
              "      <td>4.6</td>\n",
              "      <td>3.1</td>\n",
              "      <td>1.5</td>\n",
              "      <td>0.2</td>\n",
              "      <td>setosa</td>\n",
              "    </tr>\n",
              "    <tr>\n",
              "      <th>4</th>\n",
              "      <td>5.0</td>\n",
              "      <td>3.6</td>\n",
              "      <td>1.4</td>\n",
              "      <td>0.2</td>\n",
              "      <td>setosa</td>\n",
              "    </tr>\n",
              "  </tbody>\n",
              "</table>\n",
              "</div>\n",
              "      <button class=\"colab-df-convert\" onclick=\"convertToInteractive('df-aea3b8b6-f78c-4c76-bb79-dbb08242e241')\"\n",
              "              title=\"Convert this dataframe to an interactive table.\"\n",
              "              style=\"display:none;\">\n",
              "        \n",
              "  <svg xmlns=\"http://www.w3.org/2000/svg\" height=\"24px\"viewBox=\"0 0 24 24\"\n",
              "       width=\"24px\">\n",
              "    <path d=\"M0 0h24v24H0V0z\" fill=\"none\"/>\n",
              "    <path d=\"M18.56 5.44l.94 2.06.94-2.06 2.06-.94-2.06-.94-.94-2.06-.94 2.06-2.06.94zm-11 1L8.5 8.5l.94-2.06 2.06-.94-2.06-.94L8.5 2.5l-.94 2.06-2.06.94zm10 10l.94 2.06.94-2.06 2.06-.94-2.06-.94-.94-2.06-.94 2.06-2.06.94z\"/><path d=\"M17.41 7.96l-1.37-1.37c-.4-.4-.92-.59-1.43-.59-.52 0-1.04.2-1.43.59L10.3 9.45l-7.72 7.72c-.78.78-.78 2.05 0 2.83L4 21.41c.39.39.9.59 1.41.59.51 0 1.02-.2 1.41-.59l7.78-7.78 2.81-2.81c.8-.78.8-2.07 0-2.86zM5.41 20L4 18.59l7.72-7.72 1.47 1.35L5.41 20z\"/>\n",
              "  </svg>\n",
              "      </button>\n",
              "      \n",
              "  <style>\n",
              "    .colab-df-container {\n",
              "      display:flex;\n",
              "      flex-wrap:wrap;\n",
              "      gap: 12px;\n",
              "    }\n",
              "\n",
              "    .colab-df-convert {\n",
              "      background-color: #E8F0FE;\n",
              "      border: none;\n",
              "      border-radius: 50%;\n",
              "      cursor: pointer;\n",
              "      display: none;\n",
              "      fill: #1967D2;\n",
              "      height: 32px;\n",
              "      padding: 0 0 0 0;\n",
              "      width: 32px;\n",
              "    }\n",
              "\n",
              "    .colab-df-convert:hover {\n",
              "      background-color: #E2EBFA;\n",
              "      box-shadow: 0px 1px 2px rgba(60, 64, 67, 0.3), 0px 1px 3px 1px rgba(60, 64, 67, 0.15);\n",
              "      fill: #174EA6;\n",
              "    }\n",
              "\n",
              "    [theme=dark] .colab-df-convert {\n",
              "      background-color: #3B4455;\n",
              "      fill: #D2E3FC;\n",
              "    }\n",
              "\n",
              "    [theme=dark] .colab-df-convert:hover {\n",
              "      background-color: #434B5C;\n",
              "      box-shadow: 0px 1px 3px 1px rgba(0, 0, 0, 0.15);\n",
              "      filter: drop-shadow(0px 1px 2px rgba(0, 0, 0, 0.3));\n",
              "      fill: #FFFFFF;\n",
              "    }\n",
              "  </style>\n",
              "\n",
              "      <script>\n",
              "        const buttonEl =\n",
              "          document.querySelector('#df-aea3b8b6-f78c-4c76-bb79-dbb08242e241 button.colab-df-convert');\n",
              "        buttonEl.style.display =\n",
              "          google.colab.kernel.accessAllowed ? 'block' : 'none';\n",
              "\n",
              "        async function convertToInteractive(key) {\n",
              "          const element = document.querySelector('#df-aea3b8b6-f78c-4c76-bb79-dbb08242e241');\n",
              "          const dataTable =\n",
              "            await google.colab.kernel.invokeFunction('convertToInteractive',\n",
              "                                                     [key], {});\n",
              "          if (!dataTable) return;\n",
              "\n",
              "          const docLinkHtml = 'Like what you see? Visit the ' +\n",
              "            '<a target=\"_blank\" href=https://colab.research.google.com/notebooks/data_table.ipynb>data table notebook</a>'\n",
              "            + ' to learn more about interactive tables.';\n",
              "          element.innerHTML = '';\n",
              "          dataTable['output_type'] = 'display_data';\n",
              "          await google.colab.output.renderOutput(dataTable, element);\n",
              "          const docLink = document.createElement('div');\n",
              "          docLink.innerHTML = docLinkHtml;\n",
              "          element.appendChild(docLink);\n",
              "        }\n",
              "      </script>\n",
              "    </div>\n",
              "  </div>\n",
              "  "
            ]
          },
          "metadata": {},
          "execution_count": 4
        }
      ]
    },
    {
      "cell_type": "code",
      "source": [
        "#printing Dimension of datasets\n",
        "print('Dimension of dataset: ', data.shape)\n",
        "print('Number of rows in the dataset: ', data.shape[0])\n",
        "print('Number of columns in the dataset: ',data.shape[1])"
      ],
      "metadata": {
        "colab": {
          "base_uri": "https://localhost:8080/"
        },
        "id": "e8XASy2i0clv",
        "outputId": "05d5dfa4-6e48-4879-a930-2f91ad689f8e"
      },
      "execution_count": null,
      "outputs": [
        {
          "output_type": "stream",
          "name": "stdout",
          "text": [
            "Dimension of dataset:  (150, 5)\n",
            "Number of rows in the dataset:  150\n",
            "Number of columns in the dataset:  5\n"
          ]
        }
      ]
    },
    {
      "cell_type": "code",
      "source": [
        "#printing attributes(colums)name\n",
        "print(\"column names: \", data.columns.values)\n"
      ],
      "metadata": {
        "colab": {
          "base_uri": "https://localhost:8080/"
        },
        "id": "aEXmKmtp1gVP",
        "outputId": "029515e6-58d1-4877-e65d-c801b773d218"
      },
      "execution_count": null,
      "outputs": [
        {
          "output_type": "stream",
          "name": "stdout",
          "text": [
            "column names:  ['sepal_length' 'sepal_width' 'petal_length' 'petal_width' 'species']\n"
          ]
        }
      ]
    },
    {
      "cell_type": "code",
      "source": [
        "data.columns"
      ],
      "metadata": {
        "colab": {
          "base_uri": "https://localhost:8080/"
        },
        "id": "tb27EgMu29H4",
        "outputId": "bfc10c17-4617-470e-8335-9e2e3bcf32ef"
      },
      "execution_count": null,
      "outputs": [
        {
          "output_type": "execute_result",
          "data": {
            "text/plain": [
              "Index(['sepal_length', 'sepal_width', 'petal_length', 'petal_width',\n",
              "       'species'],\n",
              "      dtype='object')"
            ]
          },
          "metadata": {},
          "execution_count": 7
        }
      ]
    },
    {
      "cell_type": "markdown",
      "source": [
        "#Exploratory Data Analysis (EDA)"
      ],
      "metadata": {
        "id": "0QHxBozQ3_8t"
      }
    },
    {
      "cell_type": "code",
      "source": [
        "#showing datatypes of the columns\n",
        "data.info()"
      ],
      "metadata": {
        "colab": {
          "base_uri": "https://localhost:8080/"
        },
        "id": "YLdqnwM73WNr",
        "outputId": "e4c1a36d-9cda-47c9-e1b4-7447dc4ae2e6"
      },
      "execution_count": null,
      "outputs": [
        {
          "output_type": "stream",
          "name": "stdout",
          "text": [
            "<class 'pandas.core.frame.DataFrame'>\n",
            "RangeIndex: 150 entries, 0 to 149\n",
            "Data columns (total 5 columns):\n",
            " #   Column        Non-Null Count  Dtype  \n",
            "---  ------        --------------  -----  \n",
            " 0   sepal_length  150 non-null    float64\n",
            " 1   sepal_width   150 non-null    float64\n",
            " 2   petal_length  150 non-null    float64\n",
            " 3   petal_width   150 non-null    float64\n",
            " 4   species       150 non-null    object \n",
            "dtypes: float64(4), object(1)\n",
            "memory usage: 6.0+ KB\n"
          ]
        }
      ]
    },
    {
      "cell_type": "code",
      "source": [
        "#getting descriptive statics (summary of the data)\n",
        "data.describe()"
      ],
      "metadata": {
        "colab": {
          "base_uri": "https://localhost:8080/",
          "height": 300
        },
        "id": "73wRlzBX4Wzw",
        "outputId": "7ab18359-ad30-4599-fa6f-559c5b552135"
      },
      "execution_count": null,
      "outputs": [
        {
          "output_type": "execute_result",
          "data": {
            "text/plain": [
              "       sepal_length  sepal_width  petal_length  petal_width\n",
              "count    150.000000   150.000000    150.000000   150.000000\n",
              "mean       5.843333     3.054000      3.758667     1.198667\n",
              "std        0.828066     0.433594      1.764420     0.763161\n",
              "min        4.300000     2.000000      1.000000     0.100000\n",
              "25%        5.100000     2.800000      1.600000     0.300000\n",
              "50%        5.800000     3.000000      4.350000     1.300000\n",
              "75%        6.400000     3.300000      5.100000     1.800000\n",
              "max        7.900000     4.400000      6.900000     2.500000"
            ],
            "text/html": [
              "\n",
              "  <div id=\"df-e6b48b16-9b73-41a2-b888-d6427000417b\">\n",
              "    <div class=\"colab-df-container\">\n",
              "      <div>\n",
              "<style scoped>\n",
              "    .dataframe tbody tr th:only-of-type {\n",
              "        vertical-align: middle;\n",
              "    }\n",
              "\n",
              "    .dataframe tbody tr th {\n",
              "        vertical-align: top;\n",
              "    }\n",
              "\n",
              "    .dataframe thead th {\n",
              "        text-align: right;\n",
              "    }\n",
              "</style>\n",
              "<table border=\"1\" class=\"dataframe\">\n",
              "  <thead>\n",
              "    <tr style=\"text-align: right;\">\n",
              "      <th></th>\n",
              "      <th>sepal_length</th>\n",
              "      <th>sepal_width</th>\n",
              "      <th>petal_length</th>\n",
              "      <th>petal_width</th>\n",
              "    </tr>\n",
              "  </thead>\n",
              "  <tbody>\n",
              "    <tr>\n",
              "      <th>count</th>\n",
              "      <td>150.000000</td>\n",
              "      <td>150.000000</td>\n",
              "      <td>150.000000</td>\n",
              "      <td>150.000000</td>\n",
              "    </tr>\n",
              "    <tr>\n",
              "      <th>mean</th>\n",
              "      <td>5.843333</td>\n",
              "      <td>3.054000</td>\n",
              "      <td>3.758667</td>\n",
              "      <td>1.198667</td>\n",
              "    </tr>\n",
              "    <tr>\n",
              "      <th>std</th>\n",
              "      <td>0.828066</td>\n",
              "      <td>0.433594</td>\n",
              "      <td>1.764420</td>\n",
              "      <td>0.763161</td>\n",
              "    </tr>\n",
              "    <tr>\n",
              "      <th>min</th>\n",
              "      <td>4.300000</td>\n",
              "      <td>2.000000</td>\n",
              "      <td>1.000000</td>\n",
              "      <td>0.100000</td>\n",
              "    </tr>\n",
              "    <tr>\n",
              "      <th>25%</th>\n",
              "      <td>5.100000</td>\n",
              "      <td>2.800000</td>\n",
              "      <td>1.600000</td>\n",
              "      <td>0.300000</td>\n",
              "    </tr>\n",
              "    <tr>\n",
              "      <th>50%</th>\n",
              "      <td>5.800000</td>\n",
              "      <td>3.000000</td>\n",
              "      <td>4.350000</td>\n",
              "      <td>1.300000</td>\n",
              "    </tr>\n",
              "    <tr>\n",
              "      <th>75%</th>\n",
              "      <td>6.400000</td>\n",
              "      <td>3.300000</td>\n",
              "      <td>5.100000</td>\n",
              "      <td>1.800000</td>\n",
              "    </tr>\n",
              "    <tr>\n",
              "      <th>max</th>\n",
              "      <td>7.900000</td>\n",
              "      <td>4.400000</td>\n",
              "      <td>6.900000</td>\n",
              "      <td>2.500000</td>\n",
              "    </tr>\n",
              "  </tbody>\n",
              "</table>\n",
              "</div>\n",
              "      <button class=\"colab-df-convert\" onclick=\"convertToInteractive('df-e6b48b16-9b73-41a2-b888-d6427000417b')\"\n",
              "              title=\"Convert this dataframe to an interactive table.\"\n",
              "              style=\"display:none;\">\n",
              "        \n",
              "  <svg xmlns=\"http://www.w3.org/2000/svg\" height=\"24px\"viewBox=\"0 0 24 24\"\n",
              "       width=\"24px\">\n",
              "    <path d=\"M0 0h24v24H0V0z\" fill=\"none\"/>\n",
              "    <path d=\"M18.56 5.44l.94 2.06.94-2.06 2.06-.94-2.06-.94-.94-2.06-.94 2.06-2.06.94zm-11 1L8.5 8.5l.94-2.06 2.06-.94-2.06-.94L8.5 2.5l-.94 2.06-2.06.94zm10 10l.94 2.06.94-2.06 2.06-.94-2.06-.94-.94-2.06-.94 2.06-2.06.94z\"/><path d=\"M17.41 7.96l-1.37-1.37c-.4-.4-.92-.59-1.43-.59-.52 0-1.04.2-1.43.59L10.3 9.45l-7.72 7.72c-.78.78-.78 2.05 0 2.83L4 21.41c.39.39.9.59 1.41.59.51 0 1.02-.2 1.41-.59l7.78-7.78 2.81-2.81c.8-.78.8-2.07 0-2.86zM5.41 20L4 18.59l7.72-7.72 1.47 1.35L5.41 20z\"/>\n",
              "  </svg>\n",
              "      </button>\n",
              "      \n",
              "  <style>\n",
              "    .colab-df-container {\n",
              "      display:flex;\n",
              "      flex-wrap:wrap;\n",
              "      gap: 12px;\n",
              "    }\n",
              "\n",
              "    .colab-df-convert {\n",
              "      background-color: #E8F0FE;\n",
              "      border: none;\n",
              "      border-radius: 50%;\n",
              "      cursor: pointer;\n",
              "      display: none;\n",
              "      fill: #1967D2;\n",
              "      height: 32px;\n",
              "      padding: 0 0 0 0;\n",
              "      width: 32px;\n",
              "    }\n",
              "\n",
              "    .colab-df-convert:hover {\n",
              "      background-color: #E2EBFA;\n",
              "      box-shadow: 0px 1px 2px rgba(60, 64, 67, 0.3), 0px 1px 3px 1px rgba(60, 64, 67, 0.15);\n",
              "      fill: #174EA6;\n",
              "    }\n",
              "\n",
              "    [theme=dark] .colab-df-convert {\n",
              "      background-color: #3B4455;\n",
              "      fill: #D2E3FC;\n",
              "    }\n",
              "\n",
              "    [theme=dark] .colab-df-convert:hover {\n",
              "      background-color: #434B5C;\n",
              "      box-shadow: 0px 1px 3px 1px rgba(0, 0, 0, 0.15);\n",
              "      filter: drop-shadow(0px 1px 2px rgba(0, 0, 0, 0.3));\n",
              "      fill: #FFFFFF;\n",
              "    }\n",
              "  </style>\n",
              "\n",
              "      <script>\n",
              "        const buttonEl =\n",
              "          document.querySelector('#df-e6b48b16-9b73-41a2-b888-d6427000417b button.colab-df-convert');\n",
              "        buttonEl.style.display =\n",
              "          google.colab.kernel.accessAllowed ? 'block' : 'none';\n",
              "\n",
              "        async function convertToInteractive(key) {\n",
              "          const element = document.querySelector('#df-e6b48b16-9b73-41a2-b888-d6427000417b');\n",
              "          const dataTable =\n",
              "            await google.colab.kernel.invokeFunction('convertToInteractive',\n",
              "                                                     [key], {});\n",
              "          if (!dataTable) return;\n",
              "\n",
              "          const docLinkHtml = 'Like what you see? Visit the ' +\n",
              "            '<a target=\"_blank\" href=https://colab.research.google.com/notebooks/data_table.ipynb>data table notebook</a>'\n",
              "            + ' to learn more about interactive tables.';\n",
              "          element.innerHTML = '';\n",
              "          dataTable['output_type'] = 'display_data';\n",
              "          await google.colab.output.renderOutput(dataTable, element);\n",
              "          const docLink = document.createElement('div');\n",
              "          docLink.innerHTML = docLinkHtml;\n",
              "          element.appendChild(docLink);\n",
              "        }\n",
              "      </script>\n",
              "    </div>\n",
              "  </div>\n",
              "  "
            ]
          },
          "metadata": {},
          "execution_count": 9
        }
      ]
    },
    {
      "cell_type": "code",
      "source": [
        "\n",
        "\n",
        "col = data.columns\n",
        "for i in col:\n",
        "  print(i ,\"Column Has Unique Value: \",data[i].nunique())"
      ],
      "metadata": {
        "colab": {
          "base_uri": "https://localhost:8080/"
        },
        "id": "Zti0HgLWyI9e",
        "outputId": "1b7cb590-1466-40d1-cdc9-2606f82a5447"
      },
      "execution_count": null,
      "outputs": [
        {
          "output_type": "stream",
          "name": "stdout",
          "text": [
            "sepal_length Column Has Unique Value:  35\n",
            "sepal_width Column Has Unique Value:  23\n",
            "petal_length Column Has Unique Value:  43\n",
            "petal_width Column Has Unique Value:  22\n",
            "species Column Has Unique Value:  3\n"
          ]
        }
      ]
    },
    {
      "cell_type": "markdown",
      "source": [
        "#2-D Scatter plot"
      ],
      "metadata": {
        "id": "65oYx-4I4qpJ"
      }
    },
    {
      "cell_type": "code",
      "source": [
        "#2-D statter plot.\n",
        "import seaborn as sns\n",
        "\n",
        "sns.set_style('whitegrid')\n",
        "sns.FacetGrid(data, hue = \"species\", size = 5.5) \\\n",
        "   .map(plt.scatter, \"sepal_length\", \"sepal_width\") \\\n",
        "   .add_legend();\n",
        "plt.show();\n",
        "\n"
      ],
      "metadata": {
        "id": "2zvz3gPG4qNP"
      },
      "execution_count": null,
      "outputs": []
    },
    {
      "cell_type": "code",
      "source": [
        "#Pairplot on the data"
      ],
      "metadata": {
        "id": "DriSRIvl7iM9"
      },
      "execution_count": null,
      "outputs": []
    },
    {
      "cell_type": "code",
      "source": [
        "sns.set_style('whitegrid');\n",
        "sns.pairplot(data, hue = 'species',size = 3)\n",
        "plt.show()"
      ],
      "metadata": {
        "id": "nrcFMbrU7lnX"
      },
      "execution_count": null,
      "outputs": []
    },
    {
      "cell_type": "markdown",
      "source": [
        "#Univariate Analysis Using PDF"
      ],
      "metadata": {
        "id": "PscBw56477YE"
      }
    },
    {
      "cell_type": "code",
      "source": [
        "col = data.columns"
      ],
      "metadata": {
        "id": "thG59gVYkN9u"
      },
      "execution_count": null,
      "outputs": []
    },
    {
      "cell_type": "code",
      "source": [
        "col"
      ],
      "metadata": {
        "id": "4A5HmIJTkZJI"
      },
      "execution_count": null,
      "outputs": []
    },
    {
      "cell_type": "code",
      "source": [
        "df = data.copy()"
      ],
      "metadata": {
        "id": "J1As2qDsmbs4"
      },
      "execution_count": null,
      "outputs": []
    },
    {
      "cell_type": "code",
      "source": [
        "sns.countplot('species',data= data)"
      ],
      "metadata": {
        "id": "zkwqGC1Pl2WT"
      },
      "execution_count": null,
      "outputs": []
    },
    {
      "cell_type": "code",
      "source": [
        "for name in data.columns.values[:-1]:\n",
        "    sns.FacetGrid(data, hue=\"species\", size=5).map(sns.distplot, name).add_legend()\n",
        "plt.show()\n"
      ],
      "metadata": {
        "id": "K761Z6NY8Kl5"
      },
      "execution_count": null,
      "outputs": []
    },
    {
      "cell_type": "markdown",
      "source": [
        "#Boxplot and whiskers"
      ],
      "metadata": {
        "id": "MxMDGxKnmrAr"
      }
    },
    {
      "cell_type": "code",
      "source": [
        "data.boxplot(column = ['sepal_length','sepal_width', 'petal_length','petal_width'],figsize=(9,5),grid = False)"
      ],
      "metadata": {
        "id": "f1jRK_MRmopQ"
      },
      "execution_count": null,
      "outputs": []
    },
    {
      "cell_type": "code",
      "source": [
        "#Identifing missing values\n",
        "miss_val = data.isna().sum()\n",
        "miss_val "
      ],
      "metadata": {
        "id": "2x9ZOtQypPME"
      },
      "execution_count": null,
      "outputs": []
    },
    {
      "cell_type": "code",
      "source": [
        "#Extracting dataframe for only 'object' datatypes\n",
        "data_ct = data.select_dtypes(include ='object')\n",
        "data_ct.head()"
      ],
      "metadata": {
        "id": "WsJiy1ZUpppP"
      },
      "execution_count": null,
      "outputs": []
    },
    {
      "cell_type": "code",
      "source": [
        "#Extracting dataframe for only 'number' datatypes\n",
        "data_num = data.select_dtypes(include = ['float64', 'int64'])\n",
        "data_num.head()"
      ],
      "metadata": {
        "id": "gf6AuupBq7Hx"
      },
      "execution_count": null,
      "outputs": []
    },
    {
      "cell_type": "code",
      "source": [
        "#data points for each class\n",
        "data.species.value_counts()"
      ],
      "metadata": {
        "id": "VINH6JCUrbzi"
      },
      "execution_count": null,
      "outputs": []
    },
    {
      "cell_type": "code",
      "source": [
        "#count plot for species\n",
        "sns.countplot('species',data=data)\n",
        "plt.title(\"species distribution\")"
      ],
      "metadata": {
        "id": "nR_71HQtruKU"
      },
      "execution_count": null,
      "outputs": []
    },
    {
      "cell_type": "code",
      "source": [
        "# # Import label encoder \n",
        "# from sklearn import preprocessing \n",
        "  \n",
        "# # label_encoder object knows how to understand word labels. \n",
        "# label_encoder = preprocessing.LabelEncoder() \n",
        "  \n",
        "# # Encode labels in column 'species'. \n",
        "# data['species']= label_encoder.fit_transform(data['species']) "
      ],
      "metadata": {
        "id": "sYJHzMSwsDU4"
      },
      "execution_count": null,
      "outputs": []
    },
    {
      "cell_type": "code",
      "source": [
        "#Check unique value of species\n",
        "data['species'].unique()"
      ],
      "metadata": {
        "id": "LL_j7VNiswhb"
      },
      "execution_count": null,
      "outputs": []
    },
    {
      "cell_type": "code",
      "source": [
        "#showing overview of the dataset\n",
        "data.head()"
      ],
      "metadata": {
        "id": "MdtR3IpvtLhd"
      },
      "execution_count": null,
      "outputs": []
    },
    {
      "cell_type": "markdown",
      "source": [
        "#Correlation"
      ],
      "metadata": {
        "id": "CyLfEBgZtVAa"
      }
    },
    {
      "cell_type": "code",
      "source": [
        "#Constructing correlation Matrix\n",
        "corr = data.corr()\n",
        "corr"
      ],
      "metadata": {
        "id": "9iKapggTtUGi"
      },
      "execution_count": null,
      "outputs": []
    },
    {
      "cell_type": "code",
      "source": [
        "#Heatmap\n",
        "plt.figure(figsize = (6,6))\n",
        "sns.heatmap(corr, annot = True, cmap = 'cubehelix_r', square = True)\n",
        "plt.show()"
      ],
      "metadata": {
        "id": "D2VmVawGuVXO"
      },
      "execution_count": null,
      "outputs": []
    },
    {
      "cell_type": "code",
      "source": [
        "#splitting Data set into train and validation\n",
        "from sklearn.model_selection import train_test_split\n",
        "train, test= train_test_split(data, test_size = 0.30, random_state= 1)\n"
      ],
      "metadata": {
        "id": "DWs9t7fLupC-"
      },
      "execution_count": null,
      "outputs": []
    },
    {
      "cell_type": "code",
      "source": [
        "#considering only highly correlated features for training and validation\n",
        "train_x = train.drop (['species'], axis = 1)\n",
        "train_y = train['species']\n",
        "\n",
        "test_x = test.drop(['species'], axis = 1)\n",
        "test_y = test['species']"
      ],
      "metadata": {
        "id": "Svx3JdPpvPcH"
      },
      "execution_count": null,
      "outputs": []
    },
    {
      "cell_type": "code",
      "source": [
        "print('Dimension of train_x: ', train_x.shape)\n",
        "print('Dimension of train_y: ', train_y.shape)\n",
        "print('Dimension of test_x: ', test_x.shape)\n",
        "print('Dimension of test_y: ', test_y.shape)"
      ],
      "metadata": {
        "id": "_2ifLwqBv_WW"
      },
      "execution_count": null,
      "outputs": []
    },
    {
      "cell_type": "code",
      "source": [
        "\n",
        "\n",
        "#using decision tree classifier for model building by \"gini\"\n",
        "from sklearn.tree import DecisionTreeClassifier\n",
        "clf = DecisionTreeClassifier(random_state = 0, max_depth = 2, criterion = 'entropy')\n",
        "clf.fit(train_x, train_y)"
      ],
      "metadata": {
        "id": "beelZFLRwhh7"
      },
      "execution_count": null,
      "outputs": []
    },
    {
      "cell_type": "code",
      "source": [
        "#Predict species for test data\n",
        "pred = clf.predict(test_x)\n",
        "pred"
      ],
      "metadata": {
        "id": "1fkpZvvm14Ow"
      },
      "execution_count": null,
      "outputs": []
    },
    {
      "cell_type": "code",
      "source": [
        "#Validation of built model\n",
        "from sklearn.metrics import accuracy_score\n",
        "print('The accuracy of the Decision Tree is {}%' .format(round(accuracy_score(pred,test_y)*100,2)))"
      ],
      "metadata": {
        "id": "ZK3iF9nY2Dll"
      },
      "execution_count": null,
      "outputs": []
    },
    {
      "cell_type": "markdown",
      "source": [
        "#GridSearchCV"
      ],
      "metadata": {
        "id": "4HwSljcx3Phf"
      }
    },
    {
      "cell_type": "code",
      "source": [
        "#Tuning parameters using Grid search cross validation\n",
        "from sklearn.model_selection import GridSearchCV\n",
        "tree_params = {\"criterion\": [\"gini\", \"entropy\"], \"max_depth\": list(range(1,6,1)),\n",
        "               \"min_samples_leaf\": list(range(1,7,1))}\n",
        "grid_tree = GridSearchCV(DecisionTreeClassifier(random_state=1), tree_params, cv = 3)\n",
        "grid_tree.fit(train_x, train_y)"
      ],
      "metadata": {
        "id": "753Rx4qF3SRA"
      },
      "execution_count": null,
      "outputs": []
    },
    {
      "cell_type": "code",
      "source": [
        "#tree best estimator\n",
        "tree_clf = grid_tree.best_estimator_\n",
        "tree_clf"
      ],
      "metadata": {
        "id": "VzpzU3nN43Nk"
      },
      "execution_count": null,
      "outputs": []
    },
    {
      "cell_type": "code",
      "source": [
        "#Print byperparameter\n",
        "print(\"Tuned hyperparameter: {}\".format(grid_tree.best_params_))\n",
        "print(\"Best score: {}\".format(grid_tree.best_score_))\n"
      ],
      "metadata": {
        "id": "AFNnZBf95KVg"
      },
      "execution_count": null,
      "outputs": []
    },
    {
      "cell_type": "code",
      "source": [
        "#Using best hyperparameter\n",
        "\n",
        "DT = tree_clf.fit(train_x, train_y)\n",
        "y_pred = DT.predict(test_x)\n",
        "acc = accuracy_score(y_pred, test_y)\n",
        "print(\"The accuracy of the Decision tree after hyperparameter tuning: {}% \". format(round(acc*100,2)))"
      ],
      "metadata": {
        "id": "cRoFmfJ25kph"
      },
      "execution_count": null,
      "outputs": []
    },
    {
      "cell_type": "code",
      "source": [
        "#Model visualization\n",
        "\n",
        "from sklearn import tree\n",
        "plt.figure(figsize = (7,5))\n",
        "tree.plot_tree(DT, feature_names = ['sepal_length', 'sepal_width', 'petal_length', 'petal_width'],\n",
        "               class_names = ['setosa', 'versicolor', 'virginica'],proportion=False)\n",
        "plt.show()"
      ],
      "metadata": {
        "id": "7bc78PYf6MDQ"
      },
      "execution_count": null,
      "outputs": []
    },
    {
      "cell_type": "code",
      "source": [
        "# #Model visualization\n",
        "\n",
        "# from sklearn.tree.export import export_text\n",
        "# r = export_text(DT, feature_names = ['sepal_length', 'sepal_width', 'petal_length', 'petal_width'])\n",
        "# print(r)\n",
        "\n",
        "#Model visualization\n",
        "from sklearn.tree import export_text\n",
        "r = export_text(DT, feature_names = ['sepal_length', 'sepal_width', 'petal_length', 'petal_width'])\n",
        "print(r)\n"
      ],
      "metadata": {
        "id": "LXuiWIcM6zGI"
      },
      "execution_count": null,
      "outputs": []
    },
    {
      "cell_type": "code",
      "source": [
        "#lets see the actual and predicted value\n",
        "test = test.reset_index(drop = True)\n",
        "test[\"pred_species\"] = y_pred\n",
        "test.head()"
      ],
      "metadata": {
        "id": "tzheKNz87kmr"
      },
      "execution_count": null,
      "outputs": []
    }
  ]
}